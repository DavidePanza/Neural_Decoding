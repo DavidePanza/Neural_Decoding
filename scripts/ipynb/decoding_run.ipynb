{
 "cells": [
  {
   "cell_type": "code",
   "execution_count": 7,
   "metadata": {},
   "outputs": [],
   "source": [
    "import subprocess\n",
    "\n",
    "def run_decoding_script(participant, presentation_time, n_perm):\n",
    "    \"\"\"\n",
    "    Runs the decoding Python script with the provided parameters.\n",
    "    \n",
    "    Args:\n",
    "        participant (int): The participant number.\n",
    "        presentation_time (str): The presentation time (e.g., '2' or '6').\n",
    "        test_ratio (float): The test ratio value (e.g., 0.1).\n",
    "        \n",
    "    Returns:\n",
    "        None\n",
    "    \"\"\"\n",
    "    # Construct the command to run the Python script\n",
    "    command = [\n",
    "        'python', '/Users/davide/Documents/Work/github/EEG/scripts/decoding_obj.py',  # Adjust the path to the actual location of your .py file\n",
    "        str(participant),\n",
    "        presentation_time,\n",
    "        str(n_perm)\n",
    "    ]\n",
    "    \n",
    "    try:\n",
    "        # Execute the command and capture the output\n",
    "        subprocess.run(command, check=True, capture_output=True, text=True)\n",
    "    except subprocess.CalledProcessError as e:\n",
    "        # Print the error output for debugging\n",
    "        print(f\"Error while running {command}:\")\n",
    "        print(e.stderr)\n",
    "\n",
    "# Parameters\n",
    "participants = [6]\n",
    "presentation_times = ['2']\n",
    "n_perm = 2\n",
    "\n",
    "# Loop through participants, presentation times, test ratios, and pseudotrials\n",
    "for participant in participants:\n",
    "    for presentation_time in presentation_times:\n",
    "        # Run the decoding script\n",
    "        run_decoding_script(participant, presentation_time, n_perm)"
   ]
  },
  {
   "cell_type": "code",
   "execution_count": null,
   "metadata": {},
   "outputs": [],
   "source": []
  }
 ],
 "metadata": {
  "kernelspec": {
   "display_name": "data_analysis",
   "language": "python",
   "name": "python3"
  },
  "language_info": {
   "codemirror_mode": {
    "name": "ipython",
    "version": 3
   },
   "file_extension": ".py",
   "mimetype": "text/x-python",
   "name": "python",
   "nbconvert_exporter": "python",
   "pygments_lexer": "ipython3",
   "version": "3.8.19"
  }
 },
 "nbformat": 4,
 "nbformat_minor": 2
}
